{
 "cells": [
  {
   "cell_type": "markdown",
   "metadata": {
    "collapsed": false
   },
   "source": [
    "# GOOGL stock 'Close' value prediction"
   ]
  },
  {
   "cell_type": "code",
   "execution_count": 1,
   "metadata": {
    "collapsed": false
   },
   "outputs": [
    {
     "name": "stderr",
     "output_type": "stream",
     "text": [
      "Using TensorFlow backend.\n"
     ]
    }
   ],
   "source": [
    "import numpy as np\n",
    "import matplotlib.pyplot as plt\n",
    "import pandas as pd\n",
    "from pandas import datetime\n",
    "import math, time\n",
    "import itertools\n",
    "from sklearn import preprocessing\n",
    "import datetime\n",
    "from operator import itemgetter\n",
    "from sklearn.metrics import mean_squared_error\n",
    "from math import sqrt\n",
    "\n",
    "from keras.models import Sequential\n",
    "from keras.layers.core import Dense, Dropout, Activation\n",
    "from keras.layers.recurrent import LSTM\n",
    "\n",
    "import tushare as ts"
   ]
  },
  {
   "cell_type": "markdown",
   "metadata": {},
   "source": [
    "## Stock data function configured to drop all columns except 'Open','High' and 'Close'"
   ]
  },
  {
   "cell_type": "code",
   "execution_count": null,
   "metadata": {
    "collapsed": false
   },
   "outputs": [],
   "source": [
    "def get_stock_data(stock_name, normalized=0):\n",
    "    url=\"http://www.google.com/finance/historical?q=\"+stock_name+\"&startdate=Jul+12%2C+2013&enddate=Jul+11%2C+2017&num=30&ei=rCtlWZGSFN3KsQHwrqWQCw&output=csv\"\n",
    "#     url=\"http://www.google.com/finance/historical?q=%s&ei=u-lHWfGPNNWIsgHHqIqICw&output=csv\" % stock_name \n",
    "\n",
    "\n",
    "    col_names = ['Date','Open','High','Low','Close','Volume']\n",
    "    stocks = pd.read_csv(url, header=0, names=col_names) \n",
    "    df = pd.DataFrame(stocks)\n",
    "    df.drop(df.columns[[0,3,5]], axis=1, inplace=True) \n",
    "    return df"
   ]
  },
  {
   "cell_type": "markdown",
   "metadata": {},
   "source": [
    "## Loading GOOGL stock data from yahoo.com"
   ]
  },
  {
   "cell_type": "code",
   "execution_count": 3,
   "metadata": {
    "collapsed": false,
    "scrolled": true
   },
   "outputs": [
    {
     "data": {
      "text/html": [
       "<div>\n",
       "<style scoped>\n",
       "    .dataframe tbody tr th:only-of-type {\n",
       "        vertical-align: middle;\n",
       "    }\n",
       "\n",
       "    .dataframe tbody tr th {\n",
       "        vertical-align: top;\n",
       "    }\n",
       "\n",
       "    .dataframe thead th {\n",
       "        text-align: right;\n",
       "    }\n",
       "</style>\n",
       "<table border=\"1\" class=\"dataframe\">\n",
       "  <thead>\n",
       "    <tr style=\"text-align: right;\">\n",
       "      <th></th>\n",
       "      <th>open</th>\n",
       "      <th>high</th>\n",
       "      <th>close</th>\n",
       "      <th>low</th>\n",
       "      <th>volume</th>\n",
       "      <th>price_change</th>\n",
       "      <th>p_change</th>\n",
       "      <th>ma5</th>\n",
       "      <th>ma10</th>\n",
       "      <th>ma20</th>\n",
       "      <th>v_ma5</th>\n",
       "      <th>v_ma10</th>\n",
       "      <th>v_ma20</th>\n",
       "    </tr>\n",
       "    <tr>\n",
       "      <th>date</th>\n",
       "      <th></th>\n",
       "      <th></th>\n",
       "      <th></th>\n",
       "      <th></th>\n",
       "      <th></th>\n",
       "      <th></th>\n",
       "      <th></th>\n",
       "      <th></th>\n",
       "      <th></th>\n",
       "      <th></th>\n",
       "      <th></th>\n",
       "      <th></th>\n",
       "      <th></th>\n",
       "    </tr>\n",
       "  </thead>\n",
       "  <tbody>\n",
       "    <tr>\n",
       "      <th>2015-01-06</th>\n",
       "      <td>15.85</td>\n",
       "      <td>16.39</td>\n",
       "      <td>15.78</td>\n",
       "      <td>15.55</td>\n",
       "      <td>2166421.50</td>\n",
       "      <td>-0.24</td>\n",
       "      <td>-1.50</td>\n",
       "      <td>15.612</td>\n",
       "      <td>15.612</td>\n",
       "      <td>15.612</td>\n",
       "      <td>2475830.10</td>\n",
       "      <td>2475830.10</td>\n",
       "      <td>2475830.10</td>\n",
       "    </tr>\n",
       "    <tr>\n",
       "      <th>2015-01-05</th>\n",
       "      <td>15.99</td>\n",
       "      <td>16.28</td>\n",
       "      <td>16.02</td>\n",
       "      <td>15.60</td>\n",
       "      <td>2860436.50</td>\n",
       "      <td>0.18</td>\n",
       "      <td>1.14</td>\n",
       "      <td>15.570</td>\n",
       "      <td>15.570</td>\n",
       "      <td>15.570</td>\n",
       "      <td>2553182.25</td>\n",
       "      <td>2553182.25</td>\n",
       "      <td>2553182.25</td>\n",
       "    </tr>\n",
       "    <tr>\n",
       "      <th>2014-12-31</th>\n",
       "      <td>15.61</td>\n",
       "      <td>15.88</td>\n",
       "      <td>15.84</td>\n",
       "      <td>15.30</td>\n",
       "      <td>2400065.75</td>\n",
       "      <td>0.34</td>\n",
       "      <td>2.19</td>\n",
       "      <td>15.420</td>\n",
       "      <td>15.420</td>\n",
       "      <td>15.420</td>\n",
       "      <td>2450764.17</td>\n",
       "      <td>2450764.17</td>\n",
       "      <td>2450764.17</td>\n",
       "    </tr>\n",
       "    <tr>\n",
       "      <th>2014-12-30</th>\n",
       "      <td>14.93</td>\n",
       "      <td>15.59</td>\n",
       "      <td>15.50</td>\n",
       "      <td>14.87</td>\n",
       "      <td>2366078.50</td>\n",
       "      <td>0.58</td>\n",
       "      <td>3.89</td>\n",
       "      <td>15.210</td>\n",
       "      <td>15.210</td>\n",
       "      <td>15.210</td>\n",
       "      <td>2476113.38</td>\n",
       "      <td>2476113.38</td>\n",
       "      <td>2476113.38</td>\n",
       "    </tr>\n",
       "    <tr>\n",
       "      <th>2014-12-29</th>\n",
       "      <td>15.61</td>\n",
       "      <td>16.05</td>\n",
       "      <td>14.92</td>\n",
       "      <td>14.75</td>\n",
       "      <td>2586148.25</td>\n",
       "      <td>-0.18</td>\n",
       "      <td>-1.19</td>\n",
       "      <td>14.920</td>\n",
       "      <td>14.920</td>\n",
       "      <td>14.920</td>\n",
       "      <td>2586148.25</td>\n",
       "      <td>2586148.25</td>\n",
       "      <td>2586148.25</td>\n",
       "    </tr>\n",
       "  </tbody>\n",
       "</table>\n",
       "</div>"
      ],
      "text/plain": [
       "             open   high  close    low      volume  price_change  p_change  \\\n",
       "date                                                                         \n",
       "2015-01-06  15.85  16.39  15.78  15.55  2166421.50         -0.24     -1.50   \n",
       "2015-01-05  15.99  16.28  16.02  15.60  2860436.50          0.18      1.14   \n",
       "2014-12-31  15.61  15.88  15.84  15.30  2400065.75          0.34      2.19   \n",
       "2014-12-30  14.93  15.59  15.50  14.87  2366078.50          0.58      3.89   \n",
       "2014-12-29  15.61  16.05  14.92  14.75  2586148.25         -0.18     -1.19   \n",
       "\n",
       "               ma5    ma10    ma20       v_ma5      v_ma10      v_ma20  \n",
       "date                                                                    \n",
       "2015-01-06  15.612  15.612  15.612  2475830.10  2475830.10  2475830.10  \n",
       "2015-01-05  15.570  15.570  15.570  2553182.25  2553182.25  2553182.25  \n",
       "2014-12-31  15.420  15.420  15.420  2450764.17  2450764.17  2450764.17  \n",
       "2014-12-30  15.210  15.210  15.210  2476113.38  2476113.38  2476113.38  \n",
       "2014-12-29  14.920  14.920  14.920  2586148.25  2586148.25  2586148.25  "
      ]
     },
     "execution_count": 3,
     "metadata": {},
     "output_type": "execute_result"
    }
   ],
   "source": [
    "df = ts.get_hist_data('000001')\n",
    "# df.to_csv('test.csv')\n",
    "# stock_name = 'GOOGL'\n",
    "# df = get_stock_data(stock_name,0)\n",
    "df.drop(df.columns[[-1]], axis=1, inplace=True)\n",
    "df.tail()"
   ]
  },
  {
   "cell_type": "markdown",
   "metadata": {},
   "source": [
    "## Saving the data to a file for a future use"
   ]
  },
  {
   "cell_type": "code",
   "execution_count": null,
   "metadata": {
    "collapsed": true
   },
   "outputs": [],
   "source": [
    "today = datetime.date.today()\n",
    "file_name = stock_name+'_stock_%s.csv' % today\n",
    "df.to_csv(file_name)"
   ]
  },
  {
   "cell_type": "code",
   "execution_count": 5,
   "metadata": {
    "collapsed": false,
    "scrolled": true
   },
   "outputs": [
    {
     "data": {
      "text/html": [
       "<div>\n",
       "<style scoped>\n",
       "    .dataframe tbody tr th:only-of-type {\n",
       "        vertical-align: middle;\n",
       "    }\n",
       "\n",
       "    .dataframe tbody tr th {\n",
       "        vertical-align: top;\n",
       "    }\n",
       "\n",
       "    .dataframe thead th {\n",
       "        text-align: right;\n",
       "    }\n",
       "</style>\n",
       "<table border=\"1\" class=\"dataframe\">\n",
       "  <thead>\n",
       "    <tr style=\"text-align: right;\">\n",
       "      <th></th>\n",
       "      <th>date</th>\n",
       "      <th>open</th>\n",
       "      <th>high</th>\n",
       "      <th>close</th>\n",
       "      <th>low</th>\n",
       "      <th>volume</th>\n",
       "      <th>price_change</th>\n",
       "      <th>p_change</th>\n",
       "      <th>ma5</th>\n",
       "      <th>ma10</th>\n",
       "      <th>ma20</th>\n",
       "      <th>v_ma5</th>\n",
       "      <th>v_ma10</th>\n",
       "      <th>v_ma20</th>\n",
       "      <th>turnover</th>\n",
       "    </tr>\n",
       "  </thead>\n",
       "  <tbody>\n",
       "    <tr>\n",
       "      <th>0</th>\n",
       "      <td>2017-12-22</td>\n",
       "      <td>0.01350</td>\n",
       "      <td>0.01363</td>\n",
       "      <td>0.01352</td>\n",
       "      <td>13.45</td>\n",
       "      <td>742900.94</td>\n",
       "      <td>-0.02</td>\n",
       "      <td>-0.15</td>\n",
       "      <td>13.270</td>\n",
       "      <td>13.172</td>\n",
       "      <td>13.258</td>\n",
       "      <td>1307551.39</td>\n",
       "      <td>1393431.41</td>\n",
       "      <td>1491215.90</td>\n",
       "      <td>0.44</td>\n",
       "    </tr>\n",
       "    <tr>\n",
       "      <th>1</th>\n",
       "      <td>2017-12-21</td>\n",
       "      <td>0.01318</td>\n",
       "      <td>0.01368</td>\n",
       "      <td>0.01354</td>\n",
       "      <td>13.16</td>\n",
       "      <td>1485203.50</td>\n",
       "      <td>0.28</td>\n",
       "      <td>2.11</td>\n",
       "      <td>13.110</td>\n",
       "      <td>13.129</td>\n",
       "      <td>13.310</td>\n",
       "      <td>1378961.70</td>\n",
       "      <td>1454272.81</td>\n",
       "      <td>1585580.33</td>\n",
       "      <td>0.88</td>\n",
       "    </tr>\n",
       "    <tr>\n",
       "      <th>2</th>\n",
       "      <td>2017-12-20</td>\n",
       "      <td>0.01320</td>\n",
       "      <td>0.01331</td>\n",
       "      <td>0.01326</td>\n",
       "      <td>13.13</td>\n",
       "      <td>1106245.00</td>\n",
       "      <td>-0.02</td>\n",
       "      <td>-0.15</td>\n",
       "      <td>13.002</td>\n",
       "      <td>13.058</td>\n",
       "      <td>13.350</td>\n",
       "      <td>1282320.60</td>\n",
       "      <td>1423948.25</td>\n",
       "      <td>1632777.26</td>\n",
       "      <td>0.65</td>\n",
       "    </tr>\n",
       "    <tr>\n",
       "      <th>3</th>\n",
       "      <td>2017-12-19</td>\n",
       "      <td>0.01279</td>\n",
       "      <td>0.01332</td>\n",
       "      <td>0.01328</td>\n",
       "      <td>12.74</td>\n",
       "      <td>2397943.00</td>\n",
       "      <td>0.53</td>\n",
       "      <td>4.16</td>\n",
       "      <td>12.976</td>\n",
       "      <td>13.040</td>\n",
       "      <td>13.442</td>\n",
       "      <td>1318921.22</td>\n",
       "      <td>1475308.25</td>\n",
       "      <td>1705976.58</td>\n",
       "      <td>1.42</td>\n",
       "    </tr>\n",
       "    <tr>\n",
       "      <th>4</th>\n",
       "      <td>2017-12-18</td>\n",
       "      <td>0.01273</td>\n",
       "      <td>0.01291</td>\n",
       "      <td>0.01275</td>\n",
       "      <td>12.64</td>\n",
       "      <td>805464.50</td>\n",
       "      <td>0.03</td>\n",
       "      <td>0.24</td>\n",
       "      <td>12.924</td>\n",
       "      <td>13.042</td>\n",
       "      <td>13.501</td>\n",
       "      <td>1188013.77</td>\n",
       "      <td>1407882.08</td>\n",
       "      <td>1710845.82</td>\n",
       "      <td>0.48</td>\n",
       "    </tr>\n",
       "  </tbody>\n",
       "</table>\n",
       "</div>"
      ],
      "text/plain": [
       "         date     open     high    close    low      volume  price_change  \\\n",
       "0  2017-12-22  0.01350  0.01363  0.01352  13.45   742900.94         -0.02   \n",
       "1  2017-12-21  0.01318  0.01368  0.01354  13.16  1485203.50          0.28   \n",
       "2  2017-12-20  0.01320  0.01331  0.01326  13.13  1106245.00         -0.02   \n",
       "3  2017-12-19  0.01279  0.01332  0.01328  12.74  2397943.00          0.53   \n",
       "4  2017-12-18  0.01273  0.01291  0.01275  12.64   805464.50          0.03   \n",
       "\n",
       "   p_change     ma5    ma10    ma20       v_ma5      v_ma10      v_ma20  \\\n",
       "0     -0.15  13.270  13.172  13.258  1307551.39  1393431.41  1491215.90   \n",
       "1      2.11  13.110  13.129  13.310  1378961.70  1454272.81  1585580.33   \n",
       "2     -0.15  13.002  13.058  13.350  1282320.60  1423948.25  1632777.26   \n",
       "3      4.16  12.976  13.040  13.442  1318921.22  1475308.25  1705976.58   \n",
       "4      0.24  12.924  13.042  13.501  1188013.77  1407882.08  1710845.82   \n",
       "\n",
       "   turnover  \n",
       "0      0.44  \n",
       "1      0.88  \n",
       "2      0.65  \n",
       "3      1.42  \n",
       "4      0.48  "
      ]
     },
     "execution_count": 5,
     "metadata": {},
     "output_type": "execute_result"
    }
   ],
   "source": [
    "df = pd.read_csv('test.csv')\n",
    "df['high'] = df['high'] / 1000\n",
    "df['open'] = df['open'] / 1000\n",
    "df['close'] = df['close'] / 1000\n",
    "df.head(5)"
   ]
  },
  {
   "cell_type": "code",
   "execution_count": 4,
   "metadata": {
    "collapsed": false
   },
   "outputs": [
    {
     "name": "stdout",
     "output_type": "stream",
     "text": [
      "<class 'pandas.core.frame.DataFrame'>\n"
     ]
    }
   ],
   "source": [
    "print type(df)"
   ]
  },
  {
   "cell_type": "code",
   "execution_count": 6,
   "metadata": {
    "collapsed": false
   },
   "outputs": [
    {
     "data": {
      "text/html": [
       "<div>\n",
       "<style scoped>\n",
       "    .dataframe tbody tr th:only-of-type {\n",
       "        vertical-align: middle;\n",
       "    }\n",
       "\n",
       "    .dataframe tbody tr th {\n",
       "        vertical-align: top;\n",
       "    }\n",
       "\n",
       "    .dataframe thead th {\n",
       "        text-align: right;\n",
       "    }\n",
       "</style>\n",
       "<table border=\"1\" class=\"dataframe\">\n",
       "  <thead>\n",
       "    <tr style=\"text-align: right;\">\n",
       "      <th></th>\n",
       "      <th>open</th>\n",
       "      <th>high</th>\n",
       "      <th>close</th>\n",
       "    </tr>\n",
       "  </thead>\n",
       "  <tbody>\n",
       "    <tr>\n",
       "      <th>0</th>\n",
       "      <td>0.01350</td>\n",
       "      <td>0.01363</td>\n",
       "      <td>0.01352</td>\n",
       "    </tr>\n",
       "    <tr>\n",
       "      <th>1</th>\n",
       "      <td>0.01318</td>\n",
       "      <td>0.01368</td>\n",
       "      <td>0.01354</td>\n",
       "    </tr>\n",
       "    <tr>\n",
       "      <th>2</th>\n",
       "      <td>0.01320</td>\n",
       "      <td>0.01331</td>\n",
       "      <td>0.01326</td>\n",
       "    </tr>\n",
       "    <tr>\n",
       "      <th>3</th>\n",
       "      <td>0.01279</td>\n",
       "      <td>0.01332</td>\n",
       "      <td>0.01328</td>\n",
       "    </tr>\n",
       "    <tr>\n",
       "      <th>4</th>\n",
       "      <td>0.01273</td>\n",
       "      <td>0.01291</td>\n",
       "      <td>0.01275</td>\n",
       "    </tr>\n",
       "  </tbody>\n",
       "</table>\n",
       "</div>"
      ],
      "text/plain": [
       "      open     high    close\n",
       "0  0.01350  0.01363  0.01352\n",
       "1  0.01318  0.01368  0.01354\n",
       "2  0.01320  0.01331  0.01326\n",
       "3  0.01279  0.01332  0.01328\n",
       "4  0.01273  0.01291  0.01275"
      ]
     },
     "execution_count": 6,
     "metadata": {},
     "output_type": "execute_result"
    }
   ],
   "source": [
    "df.drop(['date'],axis=1,inplace=True)\n",
    "df.drop(['low'],axis=1,inplace=True)\n",
    "df.drop(['volume'],axis=1,inplace=True)\n",
    "df.drop(['price_change'],axis=1,inplace=True)\n",
    "df.drop(['ma5'],axis=1,inplace=True)\n",
    "df.drop(['ma10'],axis=1,inplace=True)\n",
    "df.drop(['ma20'],axis=1,inplace=True)\n",
    "df.drop(['v_ma10'],axis=1,inplace=True)\n",
    "df.drop(['v_ma5'],axis=1,inplace=True)\n",
    "df.drop(['v_ma20'],axis=1,inplace=True)\n",
    "df.drop(['p_change'],axis=1,inplace=True)\n",
    "df.drop(['turnover'],axis=1,inplace=True)\n",
    "df.head(5)"
   ]
  },
  {
   "cell_type": "markdown",
   "metadata": {},
   "source": [
    "## Updated load_data function from lstm.py, configured to accept any amount of features.\n",
    "## It is set to calculate the last feature as a result."
   ]
  },
  {
   "cell_type": "code",
   "execution_count": 7,
   "metadata": {
    "collapsed": false
   },
   "outputs": [],
   "source": [
    "def load_data(stock, seq_len):\n",
    "    amount_of_features = len(stock.columns)\n",
    "    data = stock.as_matrix() #pd.DataFrame(stock)\n",
    "    sequence_length = seq_len + 1\n",
    "    result = []\n",
    "    for index in range(len(data) - sequence_length):\n",
    "        result.append(data[index: index + sequence_length])\n",
    "\n",
    "    result = np.array(result)\n",
    "    row = round(0.9 * result.shape[0])\n",
    "    train = result[:int(row), :]\n",
    "    x_train = train[:, :-1]\n",
    "    y_train = train[:, -1][:,-1]\n",
    "    x_test = result[int(row):, :-1]\n",
    "    y_test = result[int(row):, -1][:,-1]\n",
    "\n",
    "    x_train = np.reshape(x_train, (x_train.shape[0], x_train.shape[1], amount_of_features))\n",
    "    x_test = np.reshape(x_test, (x_test.shape[0], x_test.shape[1], amount_of_features))  \n",
    "\n",
    "    return [x_train, y_train, x_test, y_test]\n"
   ]
  },
  {
   "cell_type": "markdown",
   "metadata": {},
   "source": [
    "## Building model functions"
   ]
  },
  {
   "cell_type": "code",
   "execution_count": 8,
   "metadata": {
    "collapsed": true
   },
   "outputs": [],
   "source": [
    "def build_model(layers):\n",
    "    model = Sequential()\n",
    "\n",
    "    model.add(LSTM(\n",
    "        input_dim=layers[0],\n",
    "        output_dim=layers[1],\n",
    "        return_sequences=True))\n",
    "    model.add(Dropout(0.2))\n",
    "\n",
    "    model.add(LSTM(\n",
    "        layers[2],\n",
    "        return_sequences=False))\n",
    "    model.add(Dropout(0.2))\n",
    "\n",
    "    model.add(Dense(\n",
    "        output_dim=layers[2]))\n",
    "    model.add(Activation(\"linear\"))\n",
    "\n",
    "    start = time.time()\n",
    "    model.compile(loss=\"mse\", optimizer=\"rmsprop\",metrics=['accuracy'])\n",
    "    print(\"Compilation Time : \", time.time() - start)\n",
    "    return model\n",
    "\n",
    "def build_model2(layers):\n",
    "        d = 0.2\n",
    "        model = Sequential()\n",
    "        model.add(LSTM(128, input_shape=(layers[1], layers[0]), return_sequences=True))\n",
    "        model.add(Dropout(d))\n",
    "        model.add(LSTM(64, input_shape=(layers[1], layers[0]), return_sequences=False))\n",
    "        model.add(Dropout(d))\n",
    "        model.add(Dense(16,init='uniform',activation='relu'))        \n",
    "        model.add(Dense(1,init='uniform',activation='relu'))\n",
    "        model.compile(loss='mse',optimizer='adam',metrics=['accuracy'])\n",
    "        return model"
   ]
  },
  {
   "cell_type": "markdown",
   "metadata": {},
   "source": [
    "## Setting X and Y for training and testing"
   ]
  },
  {
   "cell_type": "code",
   "execution_count": 9,
   "metadata": {
    "collapsed": false,
    "scrolled": true
   },
   "outputs": [
    {
     "name": "stdout",
     "output_type": "stream",
     "text": [
      "('X_train', (656, 5, 3))\n",
      "('y_train', (656,))\n",
      "('X_test', (73, 5, 3))\n",
      "('y_test', (73,))\n"
     ]
    }
   ],
   "source": [
    "window = 5\n",
    "X_train, y_train, X_test, y_test = load_data(df[::-1], window)\n",
    "print(\"X_train\", X_train.shape)\n",
    "print(\"y_train\", y_train.shape)\n",
    "print(\"X_test\", X_test.shape)\n",
    "print(\"y_test\", y_test.shape)"
   ]
  },
  {
   "cell_type": "markdown",
   "metadata": {},
   "source": [
    "## Loading the model sequence structure"
   ]
  },
  {
   "cell_type": "code",
   "execution_count": 10,
   "metadata": {
    "collapsed": false
   },
   "outputs": [
    {
     "name": "stderr",
     "output_type": "stream",
     "text": [
      "/Library/Python/2.7/site-packages/ipykernel/__main__.py:31: UserWarning: Update your `Dense` call to the Keras 2 API: `Dense(16, activation=\"relu\", kernel_initializer=\"uniform\")`\n",
      "/Library/Python/2.7/site-packages/ipykernel/__main__.py:32: UserWarning: Update your `Dense` call to the Keras 2 API: `Dense(1, activation=\"relu\", kernel_initializer=\"uniform\")`\n"
     ]
    }
   ],
   "source": [
    "# model = build_model([3,lag,1])\n",
    "model = build_model2([3,window,1])"
   ]
  },
  {
   "cell_type": "markdown",
   "metadata": {},
   "source": [
    "## Executing the model & RMS/RMSE results"
   ]
  },
  {
   "cell_type": "code",
   "execution_count": 11,
   "metadata": {
    "collapsed": false
   },
   "outputs": [
    {
     "name": "stderr",
     "output_type": "stream",
     "text": [
      "/Library/Python/2.7/site-packages/keras/models.py:939: UserWarning: The `nb_epoch` argument in `fit` has been renamed `epochs`.\n",
      "  warnings.warn('The `nb_epoch` argument in `fit` '\n"
     ]
    },
    {
     "data": {
      "text/plain": [
       "<keras.callbacks.History at 0x105cdff90>"
      ]
     },
     "execution_count": 11,
     "metadata": {},
     "output_type": "execute_result"
    }
   ],
   "source": [
    "model.fit(\n",
    "    X_train,\n",
    "    y_train,\n",
    "    batch_size=512,\n",
    "    nb_epoch=500,\n",
    "    validation_split=0.1,\n",
    "    verbose=0)"
   ]
  },
  {
   "cell_type": "code",
   "execution_count": 12,
   "metadata": {
    "collapsed": false
   },
   "outputs": [
    {
     "name": "stdout",
     "output_type": "stream",
     "text": [
      "Train Score: 0.000000 MSE (0.000468 RMSE)\n",
      "Test Score: 0.000000 MSE (0.000565 RMSE)\n"
     ]
    }
   ],
   "source": [
    "trainScore = model.evaluate(X_train, y_train, verbose=0)\n",
    "print('Train Score: %.6f MSE (%.6f RMSE)' % (trainScore[0], math.sqrt(trainScore[0])))\n",
    "\n",
    "testScore = model.evaluate(X_test, y_test, verbose=0)\n",
    "print('Test Score: %.6f MSE (%.6f RMSE)' % (testScore[0], math.sqrt(testScore[0])))"
   ]
  },
  {
   "cell_type": "code",
   "execution_count": 13,
   "metadata": {
    "collapsed": false
   },
   "outputs": [],
   "source": [
    "# print(X_test[-1])\n",
    "diff=[]\n",
    "ratio=[]\n",
    "p = model.predict(X_test)\n",
    "for u in range(len(y_test)):\n",
    "    pr = p[u][0]\n",
    "    ratio.append((y_test[u]/pr)-1)\n",
    "    diff.append(abs(y_test[u]- pr))\n",
    "    #print(u, y_test[u], pr, (y_test[u]/pr)-1, abs(y_test[u]- pr))"
   ]
  },
  {
   "cell_type": "code",
   "execution_count": 15,
   "metadata": {
    "collapsed": false
   },
   "outputs": [
    {
     "name": "stdout",
     "output_type": "stream",
     "text": [
      "[ 0.01278514]\n",
      "[ 0.01280309]\n",
      "-1\n"
     ]
    }
   ],
   "source": [
    "print p[-1]\n",
    "print p[-2]\n",
    "\n",
    "if p[-1] < p[-2]:\n",
    "    print -1\n",
    "else:\n",
    "    print 1"
   ]
  },
  {
   "cell_type": "markdown",
   "metadata": {},
   "source": [
    "## Predictions vs Real results"
   ]
  },
  {
   "cell_type": "code",
   "execution_count": null,
   "metadata": {
    "collapsed": false
   },
   "outputs": [],
   "source": [
    "import matplotlib.pyplot as plt2\n",
    "\n",
    "plt2.plot(p,color='red', label='prediction')\n",
    "plt2.plot(y_test,color='blue', label='y_test')\n",
    "plt2.legend(loc='upper left')\n",
    "plt2.show()"
   ]
  }
 ],
 "metadata": {
  "anaconda-cloud": {},
  "kernelspec": {
   "display_name": "Python 2",
   "language": "python",
   "name": "python2"
  },
  "language_info": {
   "codemirror_mode": {
    "name": "ipython",
    "version": 2
   },
   "file_extension": ".py",
   "mimetype": "text/x-python",
   "name": "python",
   "nbconvert_exporter": "python",
   "pygments_lexer": "ipython2",
   "version": "2.7.10"
  }
 },
 "nbformat": 4,
 "nbformat_minor": 1
}
